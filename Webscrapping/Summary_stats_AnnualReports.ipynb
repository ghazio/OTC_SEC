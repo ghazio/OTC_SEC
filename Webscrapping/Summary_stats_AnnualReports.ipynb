{
 "cells": [
  {
   "cell_type": "code",
   "execution_count": 53,
   "id": "df23a09c",
   "metadata": {},
   "outputs": [],
   "source": [
    "import pandas as pd\n",
    "import matplotlib\n",
    "import os\n",
    "import seaborn as sns\n",
    "import matplotlib.pyplot as plt\n",
    "plt.style.use('seaborn-whitegrid')"
   ]
  },
  {
   "cell_type": "code",
   "execution_count": 4,
   "id": "54e0fffe",
   "metadata": {},
   "outputs": [],
   "source": [
    "dropped = pd.read_csv(os.getcwd()+\"/Dropped_companies.csv\")\n",
    "downloaded = pd.read_csv(os.getcwd()+\"/metadata.csv\")\n",
    "downloaded  = downloaded.loc[:, ~downloaded.columns.str.contains('^Unnamed')]\n",
    "dropped  = dropped.loc[:, ~dropped.columns.str.contains('^Unnamed')]"
   ]
  },
  {
   "cell_type": "code",
   "execution_count": 10,
   "id": "57a1a170",
   "metadata": {},
   "outputs": [
    {
     "name": "stdout",
     "output_type": "stream",
     "text": [
      "(159, 3)\n",
      "(3686, 7)\n"
     ]
    }
   ],
   "source": [
    "### Soo we see that in the run, 159 companies were dropped\n",
    "print(dropped.shape)\n",
    "print(downloaded.shape)"
   ]
  },
  {
   "cell_type": "code",
   "execution_count": 125,
   "id": "95943127",
   "metadata": {},
   "outputs": [
    {
     "name": "stdout",
     "output_type": "stream",
     "text": [
      "Index(['ID', 'Name', 'Reason'], dtype='object')\n",
      "159\n",
      "404                             76\n",
      "NoSubmissions                   51\n",
      "No Annual Report files found    28\n",
      "Unknown error                    3\n",
      "Indexing_error                   1\n",
      "Name: Reason, dtype: int64\n"
     ]
    }
   ],
   "source": [
    "##Analysis of Dropped\n",
    "print(dropped.columns)\n",
    "#check if there is more than one row for an id \n",
    "assert len(dropped.drop_duplicates()) == len(dropped)\n",
    "print(len(dropped.drop_duplicates()))\n",
    "      \n",
    "#check percentage of different aborting reasons\n",
    "print(dropped['Reason'].value_counts())\n",
    "\n",
    "#Find the ones that we need to redo\n",
    "Redo = dropped[dropped['Reason'] != '404']\n",
    "Redo.to_csv(os.getcwd() + \"/to_redo.csv\",index=False)"
   ]
  },
  {
   "cell_type": "code",
   "execution_count": 117,
   "id": "2b410e35",
   "metadata": {},
   "outputs": [
    {
     "name": "stdout",
     "output_type": "stream",
     "text": [
      "After: (83, 3) (3686, 7)\n",
      "Before: (78, 3) (48, 7)\n",
      "NoSubmissions                   50\n",
      "No Annual Report files found    25\n",
      "Indexing_error                   3\n",
      "Name: Reason, dtype: int64\n",
      "NoSubmissions                   51\n",
      "No Annual Report files found    28\n",
      "Unknown error                    3\n",
      "Indexing_error                   1\n",
      "Name: Reason, dtype: int64\n"
     ]
    }
   ],
   "source": [
    "dropped_redo = pd.read_csv(os.getcwd()+\"/Dropped_companies_redo.csv\")\n",
    "downloaded_redo = pd.read_csv(os.getcwd()+\"/metadata_redo.csv\")\n",
    "downloaded_redo  = downloaded_redo.loc[:, ~downloaded_redo.columns.str.contains('^Unnamed')]\n",
    "dropped_redo  = dropped_redo.loc[:, ~dropped_redo.columns.str.contains('^Unnamed')]\n",
    "print(\"After:\",Redo.shape,downloaded.shape)\n",
    "print(\"Before:\",dropped_redo.shape,downloaded_redo.shape)\n",
    "print(dropped_redo['Reason'].value_counts())\n",
    "print(Redo['Reason'].value_counts())"
   ]
  },
  {
   "cell_type": "code",
   "execution_count": 118,
   "id": "05339ee1",
   "metadata": {},
   "outputs": [
    {
     "data": {
      "text/html": [
       "<div>\n",
       "<style scoped>\n",
       "    .dataframe tbody tr th:only-of-type {\n",
       "        vertical-align: middle;\n",
       "    }\n",
       "\n",
       "    .dataframe tbody tr th {\n",
       "        vertical-align: top;\n",
       "    }\n",
       "\n",
       "    .dataframe thead th {\n",
       "        text-align: right;\n",
       "    }\n",
       "</style>\n",
       "<table border=\"1\" class=\"dataframe\">\n",
       "  <thead>\n",
       "    <tr style=\"text-align: right;\">\n",
       "      <th></th>\n",
       "      <th>ID</th>\n",
       "      <th>Name</th>\n",
       "      <th>Report</th>\n",
       "      <th>Date</th>\n",
       "      <th>Year</th>\n",
       "      <th>Version</th>\n",
       "      <th>Link</th>\n",
       "    </tr>\n",
       "  </thead>\n",
       "  <tbody>\n",
       "  </tbody>\n",
       "</table>\n",
       "</div>"
      ],
      "text/plain": [
       "Empty DataFrame\n",
       "Columns: [ID, Name, Report, Date, Year, Version, Link]\n",
       "Index: []"
      ]
     },
     "execution_count": 118,
     "metadata": {},
     "output_type": "execute_result"
    }
   ],
   "source": [
    "downloaded_redo[downloaded_redo['ID']=='GAVI']"
   ]
  },
  {
   "cell_type": "code",
   "execution_count": 121,
   "id": "13f51b0c",
   "metadata": {},
   "outputs": [
    {
     "name": "stdout",
     "output_type": "stream",
     "text": [
      "Index(['ID', 'Name', 'Report', 'Date', 'Year', 'Version', 'Link'], dtype='object')\n",
      "Summary statistics for number of years reported for each ID \n",
      " count    416.000000\n",
      "mean       4.024038\n",
      "std        2.989040\n",
      "min        1.000000\n",
      "25%        2.000000\n",
      "50%        3.000000\n",
      "75%        5.000000\n",
      "max       19.000000\n",
      "Name: ID, dtype: float64\n"
     ]
    },
    {
     "data": {
      "text/plain": [
       "<AxesSubplot:xlabel='ID', ylabel='Count'>"
      ]
     },
     "execution_count": 121,
     "metadata": {},
     "output_type": "execute_result"
    },
    {
     "data": {
      "image/png": "[encoded data removed]",
      "text/plain": [
       "<Figure size 1080x1080 with 2 Axes>"
      ]
     },
     "metadata": {},
     "output_type": "display_data"
    }
   ],
   "source": [
    "print(f\"{downloaded.columns}\")\n",
    "#Check the records we found\n",
    "#Number of years the company submitted something\n",
    "ID_year_pairs = downloaded[[\"ID\",\"Year\"]]\n",
    "#print(f\"{ID_year_pairs}\")\n",
    "ID_year_pairs = ID_year_pairs.drop_duplicates()\n",
    "years_reported = ID_year_pairs.groupby(\"ID\")[\"ID\"].count()\n",
    "print(f\"Summary statistics for number of years reported for each ID \\n {years_reported.describe()}\")\n",
    "fig, ax = plt.subplots(2,figsize=(15, 15))\n",
    "#ax[0].hist(years_reported)\n",
    "#print(f\"{ID_year_pairs}\")\n",
    "descript = ax[0].boxplot(years_reported,notch=False,vert=False)\n",
    "sns.histplot(ax = ax[1],x=years_reported,color=['green'],kde=True)\n",
    "#sns.kdeplot(ax = ax[1],x=years_reported,color='blue',hist=True)"
   ]
  },
  {
   "cell_type": "code",
   "execution_count": 123,
   "id": "c312ef53",
   "metadata": {},
   "outputs": [
    {
     "name": "stdout",
     "output_type": "stream",
     "text": [
      "Index(['ID', 'Name', 'Report', 'Date', 'Year', 'Version', 'Link'], dtype='object')\n",
      "Number of ID_year_submissions_pairs: 3682\n",
      "ID    Year\n",
      "AAPT  2021    3\n",
      "      2022    2\n",
      "ABVN  2017    1\n",
      "ACCR  2021    4\n",
      "      2022    1\n",
      "             ..\n",
      "ZNNC  2016    1\n",
      "      2017    1\n",
      "      2018    1\n",
      "      2021    1\n",
      "      2022    1\n",
      "Name: ID, Length: 1674, dtype: int64\n",
      "('GLOH', 2017)\n",
      "24\n",
      "Summary statistics for number of years reported for each ID \n",
      " count    1674.000000\n",
      "mean        2.199522\n",
      "std         1.874318\n",
      "min         1.000000\n",
      "25%         1.000000\n",
      "50%         2.000000\n",
      "75%         3.000000\n",
      "max        24.000000\n",
      "Name: ID, dtype: float64\n"
     ]
    },
    {
     "data": {
      "text/plain": [
       "<AxesSubplot:xlabel='ID', ylabel='Count'>"
      ]
     },
     "execution_count": 123,
     "metadata": {},
     "output_type": "execute_result"
    },
    {
     "data": {
      "image/png": "[encoded data removed]",
      "text/plain": [
       "<Figure size 1080x1080 with 2 Axes>"
      ]
     },
     "metadata": {},
     "output_type": "display_data"
    }
   ],
   "source": [
    "plt.close(fig)\n",
    "#Number of Submissions \n",
    "#Number of Submissions per year per company\n",
    "print(downloaded.columns)\n",
    "ID_year_submissions = downloaded[[\"ID\",\"Year\",\"Version\"]].drop_duplicates()\n",
    "print(f\"Number of ID_year_submissions_pairs: {len(ID_year_submissions)}\")\n",
    "Number_submissions_per_year = ID_year_submissions.groupby([\"ID\",\"Year\"])[\"ID\"].count()\n",
    "print(Number_submissions_per_year)\n",
    "print(Number_submissions_per_year.idxmax())\n",
    "print(Number_submissions_per_year[('GLOH',2017)])\n",
    "print(f\"Summary statistics for number of years reported for each ID \\n {Number_submissions_per_year.describe()}\")\n",
    "\n",
    "fig, ax = plt.subplots(2,figsize=(15, 15))\n",
    "#fig[0].title\n",
    "descript = ax[0].boxplot(Number_submissions_per_year,notch=False,vert=False)\n",
    "sns.histplot(ax = ax[1],x=Number_submissions_per_year,color='red',kde=True)\n",
    "#Last submission before 2021\n",
    "#How many are being submitted continuously?\n",
    "#Outlier characterics?"
   ]
  },
  {
   "cell_type": "code",
   "execution_count": null,
   "id": "602be9e3",
   "metadata": {},
   "outputs": [],
   "source": []
  }
 ],
 "metadata": {
  "kernelspec": {
   "display_name": "Python 3 (ipykernel)",
   "language": "python",
   "name": "python3"
  },
  "language_info": {
   "codemirror_mode": {
    "name": "ipython",
    "version": 3
   },
   "file_extension": ".py",
   "mimetype": "text/x-python",
   "name": "python",
   "nbconvert_exporter": "python",
   "pygments_lexer": "ipython3",
   "version": "3.9.12"
  }
 },
 "nbformat": 4,
 "nbformat_minor": 5
}
